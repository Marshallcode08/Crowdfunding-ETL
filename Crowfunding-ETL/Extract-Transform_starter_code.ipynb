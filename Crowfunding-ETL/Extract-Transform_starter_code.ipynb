{
 "cells": [
  {
   "cell_type": "code",
   "execution_count": 1,
   "metadata": {},
   "outputs": [],
   "source": [
    "import pandas as pd\n",
    "import json"
   ]
  },
  {
   "cell_type": "code",
   "execution_count": 2,
   "metadata": {},
   "outputs": [],
   "source": [
    "backer_info_df = pd.read_csv('backer_info.csv')"
   ]
  },
  {
   "cell_type": "markdown",
   "metadata": {},
   "source": [
    "## Deliverable 1: Extract\n",
    "----\n",
    "### Option 1: Use Python Dictionary Methods\n",
    "\n",
    "1. Import the `backer_info.csv` file into a DataFrame.\n",
    "2. Iterate through the DataFrame and convert each row to a dictionary. \n",
    "3. Iterate through each dictionary and do the following:\n",
    "    * Extract the dictionary values from the keys using Python list comprehension.\n",
    "    * Add the values for each row to a new list. \n",
    "4. Create a new DataFrame with the retrieved data. \n",
    "5. Export the DataFrame as `backers_data.csv`."
   ]
  },
  {
   "cell_type": "code",
   "execution_count": 3,
   "metadata": {},
   "outputs": [
    {
     "data": {
      "text/html": [
       "<div>\n",
       "<style scoped>\n",
       "    .dataframe tbody tr th:only-of-type {\n",
       "        vertical-align: middle;\n",
       "    }\n",
       "\n",
       "    .dataframe tbody tr th {\n",
       "        vertical-align: top;\n",
       "    }\n",
       "\n",
       "    .dataframe thead th {\n",
       "        text-align: right;\n",
       "    }\n",
       "</style>\n",
       "<table border=\"1\" class=\"dataframe\">\n",
       "  <thead>\n",
       "    <tr style=\"text-align: right;\">\n",
       "      <th></th>\n",
       "      <th>backer_info</th>\n",
       "    </tr>\n",
       "  </thead>\n",
       "  <tbody>\n",
       "    <tr>\n",
       "      <th>0</th>\n",
       "      <td>{\"backer_id\": \"av166\", \"cf_id\": 968, \"name\": \"Angelo Vincent\", \"email\": \"avincent@live.com\"}</td>\n",
       "    </tr>\n",
       "    <tr>\n",
       "      <th>1</th>\n",
       "      <td>{\"backer_id\": \"ha127\", \"cf_id\": 563, \"name\": \"Hubert Arnold\", \"email\": \"harnold@yandex.com\"}</td>\n",
       "    </tr>\n",
       "    <tr>\n",
       "      <th>2</th>\n",
       "      <td>{\"backer_id\": \"lg794\", \"cf_id\": 65, \"name\": \"Loris Goulet\", \"email\": \"lgoulet@yandex.com\"}</td>\n",
       "    </tr>\n",
       "    <tr>\n",
       "      <th>3</th>\n",
       "      <td>{\"backer_id\": \"tb566\", \"cf_id\": 563, \"name\": \"Teodora Brunelli\", \"email\": \"tbrunelli@outlook.com\"}</td>\n",
       "    </tr>\n",
       "    <tr>\n",
       "      <th>4</th>\n",
       "      <td>{\"backer_id\": \"lh506\", \"cf_id\": 563, \"name\": \"Lexie Hunt\", \"email\": \"lhunt@live.com\"}</td>\n",
       "    </tr>\n",
       "  </tbody>\n",
       "</table>\n",
       "</div>"
      ],
      "text/plain": [
       "                                                                                          backer_info\n",
       "0        {\"backer_id\": \"av166\", \"cf_id\": 968, \"name\": \"Angelo Vincent\", \"email\": \"avincent@live.com\"}\n",
       "1        {\"backer_id\": \"ha127\", \"cf_id\": 563, \"name\": \"Hubert Arnold\", \"email\": \"harnold@yandex.com\"}\n",
       "2          {\"backer_id\": \"lg794\", \"cf_id\": 65, \"name\": \"Loris Goulet\", \"email\": \"lgoulet@yandex.com\"}\n",
       "3  {\"backer_id\": \"tb566\", \"cf_id\": 563, \"name\": \"Teodora Brunelli\", \"email\": \"tbrunelli@outlook.com\"}\n",
       "4               {\"backer_id\": \"lh506\", \"cf_id\": 563, \"name\": \"Lexie Hunt\", \"email\": \"lhunt@live.com\"}"
      ]
     },
     "execution_count": 3,
     "metadata": {},
     "output_type": "execute_result"
    }
   ],
   "source": [
    "# Get the backers_info from the crowdfunding_info sheet. \n",
    "pd.set_option('max_colwidth', 400)\n",
    "backer_df = pd.read_csv('backer_info.csv')\n",
    "backer_df.head()"
   ]
  },
  {
   "cell_type": "code",
   "execution_count": 4,
   "metadata": {},
   "outputs": [],
   "source": [
    "# Iterate through the backers DataFrame and convert each row to a dictionary.\n",
    "\n",
    "    # Iterate through each dictionary (row) and get the values for each row using list comprehension.\n",
    "   \n",
    "    # Append the list of values for each row to a list. \n",
    "    \n",
    "\n",
    "# Print out the list of values for each row.\n"
   ]
  },
  {
   "cell_type": "code",
   "execution_count": 5,
   "metadata": {},
   "outputs": [],
   "source": [
    "# Create a backers_df DataFrame with the following columns: 'backer_id','cf_id', 'name', and 'email' \n",
    "# using the list of values lists. \n"
   ]
  },
  {
   "cell_type": "code",
   "execution_count": 6,
   "metadata": {},
   "outputs": [],
   "source": [
    "# Export the DataFrame as a CSV file using encoding='utf8'.\n"
   ]
  },
  {
   "cell_type": "markdown",
   "metadata": {},
   "source": [
    "## Deliverable 1: Extract\n",
    "----\n",
    "### Option 2: Use regex \n",
    "\n",
    "1. Import the `backer_info.csv` file into a DataFrame. \n",
    "2. Extract the \"backer_id\", \"cf_id\", \"name\", and \"email using regular expressions.\"\n",
    "3. Create a new DataFrame with the retrieved data.\n",
    "4. Export the DataFrame as `backers_data.csv`."
   ]
  },
  {
   "cell_type": "code",
   "execution_count": 7,
   "metadata": {},
   "outputs": [
    {
     "data": {
      "text/html": [
       "<div>\n",
       "<style scoped>\n",
       "    .dataframe tbody tr th:only-of-type {\n",
       "        vertical-align: middle;\n",
       "    }\n",
       "\n",
       "    .dataframe tbody tr th {\n",
       "        vertical-align: top;\n",
       "    }\n",
       "\n",
       "    .dataframe thead th {\n",
       "        text-align: right;\n",
       "    }\n",
       "</style>\n",
       "<table border=\"1\" class=\"dataframe\">\n",
       "  <thead>\n",
       "    <tr style=\"text-align: right;\">\n",
       "      <th></th>\n",
       "      <th>backer_info</th>\n",
       "    </tr>\n",
       "  </thead>\n",
       "  <tbody>\n",
       "    <tr>\n",
       "      <th>0</th>\n",
       "      <td>{\"backer_id\": \"av166\", \"cf_id\": 968, \"name\": \"Angelo Vincent\", \"email\": \"avincent@live.com\"}</td>\n",
       "    </tr>\n",
       "    <tr>\n",
       "      <th>1</th>\n",
       "      <td>{\"backer_id\": \"ha127\", \"cf_id\": 563, \"name\": \"Hubert Arnold\", \"email\": \"harnold@yandex.com\"}</td>\n",
       "    </tr>\n",
       "    <tr>\n",
       "      <th>2</th>\n",
       "      <td>{\"backer_id\": \"lg794\", \"cf_id\": 65, \"name\": \"Loris Goulet\", \"email\": \"lgoulet@yandex.com\"}</td>\n",
       "    </tr>\n",
       "    <tr>\n",
       "      <th>3</th>\n",
       "      <td>{\"backer_id\": \"tb566\", \"cf_id\": 563, \"name\": \"Teodora Brunelli\", \"email\": \"tbrunelli@outlook.com\"}</td>\n",
       "    </tr>\n",
       "    <tr>\n",
       "      <th>4</th>\n",
       "      <td>{\"backer_id\": \"lh506\", \"cf_id\": 563, \"name\": \"Lexie Hunt\", \"email\": \"lhunt@live.com\"}</td>\n",
       "    </tr>\n",
       "  </tbody>\n",
       "</table>\n",
       "</div>"
      ],
      "text/plain": [
       "                                                                                          backer_info\n",
       "0        {\"backer_id\": \"av166\", \"cf_id\": 968, \"name\": \"Angelo Vincent\", \"email\": \"avincent@live.com\"}\n",
       "1        {\"backer_id\": \"ha127\", \"cf_id\": 563, \"name\": \"Hubert Arnold\", \"email\": \"harnold@yandex.com\"}\n",
       "2          {\"backer_id\": \"lg794\", \"cf_id\": 65, \"name\": \"Loris Goulet\", \"email\": \"lgoulet@yandex.com\"}\n",
       "3  {\"backer_id\": \"tb566\", \"cf_id\": 563, \"name\": \"Teodora Brunelli\", \"email\": \"tbrunelli@outlook.com\"}\n",
       "4               {\"backer_id\": \"lh506\", \"cf_id\": 563, \"name\": \"Lexie Hunt\", \"email\": \"lhunt@live.com\"}"
      ]
     },
     "execution_count": 7,
     "metadata": {},
     "output_type": "execute_result"
    }
   ],
   "source": [
    "# Get the backers_info from the crowdfunding_info sheet. \n",
    "pd.set_option('max_colwidth', 400)\n",
    "backer_df = pd.read_csv('backer_info.csv')\n",
    "backer_df.head()"
   ]
  },
  {
   "cell_type": "code",
   "execution_count": 8,
   "metadata": {},
   "outputs": [
    {
     "data": {
      "text/html": [
       "<div>\n",
       "<style scoped>\n",
       "    .dataframe tbody tr th:only-of-type {\n",
       "        vertical-align: middle;\n",
       "    }\n",
       "\n",
       "    .dataframe tbody tr th {\n",
       "        vertical-align: top;\n",
       "    }\n",
       "\n",
       "    .dataframe thead th {\n",
       "        text-align: right;\n",
       "    }\n",
       "</style>\n",
       "<table border=\"1\" class=\"dataframe\">\n",
       "  <thead>\n",
       "    <tr style=\"text-align: right;\">\n",
       "      <th></th>\n",
       "      <th>0</th>\n",
       "    </tr>\n",
       "  </thead>\n",
       "  <tbody>\n",
       "    <tr>\n",
       "      <th>0</th>\n",
       "      <td>166</td>\n",
       "    </tr>\n",
       "    <tr>\n",
       "      <th>1</th>\n",
       "      <td>127</td>\n",
       "    </tr>\n",
       "    <tr>\n",
       "      <th>2</th>\n",
       "      <td>794</td>\n",
       "    </tr>\n",
       "    <tr>\n",
       "      <th>3</th>\n",
       "      <td>566</td>\n",
       "    </tr>\n",
       "    <tr>\n",
       "      <th>4</th>\n",
       "      <td>506</td>\n",
       "    </tr>\n",
       "    <tr>\n",
       "      <th>...</th>\n",
       "      <td>...</td>\n",
       "    </tr>\n",
       "    <tr>\n",
       "      <th>8170</th>\n",
       "      <td>581</td>\n",
       "    </tr>\n",
       "    <tr>\n",
       "      <th>8171</th>\n",
       "      <td>637</td>\n",
       "    </tr>\n",
       "    <tr>\n",
       "      <th>8172</th>\n",
       "      <td>983</td>\n",
       "    </tr>\n",
       "    <tr>\n",
       "      <th>8173</th>\n",
       "      <td>381</td>\n",
       "    </tr>\n",
       "    <tr>\n",
       "      <th>8174</th>\n",
       "      <td>535</td>\n",
       "    </tr>\n",
       "  </tbody>\n",
       "</table>\n",
       "<p>8175 rows × 1 columns</p>\n",
       "</div>"
      ],
      "text/plain": [
       "        0\n",
       "0     166\n",
       "1     127\n",
       "2     794\n",
       "3     566\n",
       "4     506\n",
       "...   ...\n",
       "8170  581\n",
       "8171  637\n",
       "8172  983\n",
       "8173  381\n",
       "8174  535\n",
       "\n",
       "[8175 rows x 1 columns]"
      ]
     },
     "execution_count": 8,
     "metadata": {},
     "output_type": "execute_result"
    }
   ],
   "source": [
    "backer_df['backer_info'].str.extract(r'(\\d{2,4})')\n"
   ]
  },
  {
   "cell_type": "code",
   "execution_count": 9,
   "metadata": {},
   "outputs": [
    {
     "data": {
      "text/html": [
       "<div>\n",
       "<style scoped>\n",
       "    .dataframe tbody tr th:only-of-type {\n",
       "        vertical-align: middle;\n",
       "    }\n",
       "\n",
       "    .dataframe tbody tr th {\n",
       "        vertical-align: top;\n",
       "    }\n",
       "\n",
       "    .dataframe thead th {\n",
       "        text-align: right;\n",
       "    }\n",
       "</style>\n",
       "<table border=\"1\" class=\"dataframe\">\n",
       "  <thead>\n",
       "    <tr style=\"text-align: right;\">\n",
       "      <th></th>\n",
       "      <th>0</th>\n",
       "    </tr>\n",
       "  </thead>\n",
       "  <tbody>\n",
       "    <tr>\n",
       "      <th>0</th>\n",
       "      <td>av166</td>\n",
       "    </tr>\n",
       "    <tr>\n",
       "      <th>1</th>\n",
       "      <td>ha127</td>\n",
       "    </tr>\n",
       "    <tr>\n",
       "      <th>2</th>\n",
       "      <td>lg794</td>\n",
       "    </tr>\n",
       "    <tr>\n",
       "      <th>3</th>\n",
       "      <td>tb566</td>\n",
       "    </tr>\n",
       "    <tr>\n",
       "      <th>4</th>\n",
       "      <td>lh506</td>\n",
       "    </tr>\n",
       "    <tr>\n",
       "      <th>...</th>\n",
       "      <td>...</td>\n",
       "    </tr>\n",
       "    <tr>\n",
       "      <th>8170</th>\n",
       "      <td>st581</td>\n",
       "    </tr>\n",
       "    <tr>\n",
       "      <th>8171</th>\n",
       "      <td>gf637</td>\n",
       "    </tr>\n",
       "    <tr>\n",
       "      <th>8172</th>\n",
       "      <td>rc983</td>\n",
       "    </tr>\n",
       "    <tr>\n",
       "      <th>8173</th>\n",
       "      <td>cz381</td>\n",
       "    </tr>\n",
       "    <tr>\n",
       "      <th>8174</th>\n",
       "      <td>fg535</td>\n",
       "    </tr>\n",
       "  </tbody>\n",
       "</table>\n",
       "<p>8175 rows × 1 columns</p>\n",
       "</div>"
      ],
      "text/plain": [
       "          0\n",
       "0     av166\n",
       "1     ha127\n",
       "2     lg794\n",
       "3     tb566\n",
       "4     lh506\n",
       "...     ...\n",
       "8170  st581\n",
       "8171  gf637\n",
       "8172  rc983\n",
       "8173  cz381\n",
       "8174  fg535\n",
       "\n",
       "[8175 rows x 1 columns]"
      ]
     },
     "execution_count": 9,
     "metadata": {},
     "output_type": "execute_result"
    }
   ],
   "source": [
    "backer_df['backer_info'].str.extract(r'(\\b[a-zA-Z0-9]+\\b)')"
   ]
  },
  {
   "cell_type": "code",
   "execution_count": null,
   "metadata": {},
   "outputs": [],
   "source": []
  },
  {
   "cell_type": "code",
   "execution_count": 10,
   "metadata": {},
   "outputs": [
    {
     "data": {
      "text/html": [
       "<div>\n",
       "<style scoped>\n",
       "    .dataframe tbody tr th:only-of-type {\n",
       "        vertical-align: middle;\n",
       "    }\n",
       "\n",
       "    .dataframe tbody tr th {\n",
       "        vertical-align: top;\n",
       "    }\n",
       "\n",
       "    .dataframe thead th {\n",
       "        text-align: right;\n",
       "    }\n",
       "</style>\n",
       "<table border=\"1\" class=\"dataframe\">\n",
       "  <thead>\n",
       "    <tr style=\"text-align: right;\">\n",
       "      <th></th>\n",
       "      <th>backer_info</th>\n",
       "      <th>backer_id</th>\n",
       "    </tr>\n",
       "  </thead>\n",
       "  <tbody>\n",
       "    <tr>\n",
       "      <th>0</th>\n",
       "      <td>{\"backer_id\": \"av166\", \"cf_id\": 968, \"name\": \"Angelo Vincent\", \"email\": \"avincent@live.com\"}</td>\n",
       "      <td>av166</td>\n",
       "    </tr>\n",
       "    <tr>\n",
       "      <th>1</th>\n",
       "      <td>{\"backer_id\": \"ha127\", \"cf_id\": 563, \"name\": \"Hubert Arnold\", \"email\": \"harnold@yandex.com\"}</td>\n",
       "      <td>ha127</td>\n",
       "    </tr>\n",
       "    <tr>\n",
       "      <th>2</th>\n",
       "      <td>{\"backer_id\": \"lg794\", \"cf_id\": 65, \"name\": \"Loris Goulet\", \"email\": \"lgoulet@yandex.com\"}</td>\n",
       "      <td>lg794</td>\n",
       "    </tr>\n",
       "    <tr>\n",
       "      <th>3</th>\n",
       "      <td>{\"backer_id\": \"tb566\", \"cf_id\": 563, \"name\": \"Teodora Brunelli\", \"email\": \"tbrunelli@outlook.com\"}</td>\n",
       "      <td>tb566</td>\n",
       "    </tr>\n",
       "    <tr>\n",
       "      <th>4</th>\n",
       "      <td>{\"backer_id\": \"lh506\", \"cf_id\": 563, \"name\": \"Lexie Hunt\", \"email\": \"lhunt@live.com\"}</td>\n",
       "      <td>lh506</td>\n",
       "    </tr>\n",
       "  </tbody>\n",
       "</table>\n",
       "</div>"
      ],
      "text/plain": [
       "                                                                                          backer_info  \\\n",
       "0        {\"backer_id\": \"av166\", \"cf_id\": 968, \"name\": \"Angelo Vincent\", \"email\": \"avincent@live.com\"}   \n",
       "1        {\"backer_id\": \"ha127\", \"cf_id\": 563, \"name\": \"Hubert Arnold\", \"email\": \"harnold@yandex.com\"}   \n",
       "2          {\"backer_id\": \"lg794\", \"cf_id\": 65, \"name\": \"Loris Goulet\", \"email\": \"lgoulet@yandex.com\"}   \n",
       "3  {\"backer_id\": \"tb566\", \"cf_id\": 563, \"name\": \"Teodora Brunelli\", \"email\": \"tbrunelli@outlook.com\"}   \n",
       "4               {\"backer_id\": \"lh506\", \"cf_id\": 563, \"name\": \"Lexie Hunt\", \"email\": \"lhunt@live.com\"}   \n",
       "\n",
       "  backer_id  \n",
       "0     av166  \n",
       "1     ha127  \n",
       "2     lg794  \n",
       "3     tb566  \n",
       "4     lh506  "
      ]
     },
     "execution_count": 10,
     "metadata": {},
     "output_type": "execute_result"
    }
   ],
   "source": [
    "# Extract the alpha-numeric \"backer_id\" from the backer_info column using a regex expression \n",
    "# and add it as a new column called \"backer_id\".\n",
    "backer_df['backer_id'] = backer_df['backer_info'].str.extract(r'(\\b[a-zA-Z0-9]+\\b)')\n",
    "backer_df.head()"
   ]
  },
  {
   "cell_type": "code",
   "execution_count": 17,
   "metadata": {},
   "outputs": [
    {
     "data": {
      "text/html": [
       "<div>\n",
       "<style scoped>\n",
       "    .dataframe tbody tr th:only-of-type {\n",
       "        vertical-align: middle;\n",
       "    }\n",
       "\n",
       "    .dataframe tbody tr th {\n",
       "        vertical-align: top;\n",
       "    }\n",
       "\n",
       "    .dataframe thead th {\n",
       "        text-align: right;\n",
       "    }\n",
       "</style>\n",
       "<table border=\"1\" class=\"dataframe\">\n",
       "  <thead>\n",
       "    <tr style=\"text-align: right;\">\n",
       "      <th></th>\n",
       "      <th>backer_info</th>\n",
       "      <th>backer_id</th>\n",
       "      <th>cf_id</th>\n",
       "      <th>name</th>\n",
       "    </tr>\n",
       "  </thead>\n",
       "  <tbody>\n",
       "    <tr>\n",
       "      <th>0</th>\n",
       "      <td>{\"backer_id\": \"av166\", \"cf_id\": 968, \"name\": \"Angelo Vincent\", \"email\": \"avincent@live.com\"}</td>\n",
       "      <td>av166</td>\n",
       "      <td>NaN</td>\n",
       "      <td>NaN</td>\n",
       "    </tr>\n",
       "    <tr>\n",
       "      <th>1</th>\n",
       "      <td>{\"backer_id\": \"ha127\", \"cf_id\": 563, \"name\": \"Hubert Arnold\", \"email\": \"harnold@yandex.com\"}</td>\n",
       "      <td>ha127</td>\n",
       "      <td>NaN</td>\n",
       "      <td>NaN</td>\n",
       "    </tr>\n",
       "    <tr>\n",
       "      <th>2</th>\n",
       "      <td>{\"backer_id\": \"lg794\", \"cf_id\": 65, \"name\": \"Loris Goulet\", \"email\": \"lgoulet@yandex.com\"}</td>\n",
       "      <td>lg794</td>\n",
       "      <td>NaN</td>\n",
       "      <td>NaN</td>\n",
       "    </tr>\n",
       "    <tr>\n",
       "      <th>3</th>\n",
       "      <td>{\"backer_id\": \"tb566\", \"cf_id\": 563, \"name\": \"Teodora Brunelli\", \"email\": \"tbrunelli@outlook.com\"}</td>\n",
       "      <td>tb566</td>\n",
       "      <td>NaN</td>\n",
       "      <td>NaN</td>\n",
       "    </tr>\n",
       "    <tr>\n",
       "      <th>4</th>\n",
       "      <td>{\"backer_id\": \"lh506\", \"cf_id\": 563, \"name\": \"Lexie Hunt\", \"email\": \"lhunt@live.com\"}</td>\n",
       "      <td>lh506</td>\n",
       "      <td>NaN</td>\n",
       "      <td>NaN</td>\n",
       "    </tr>\n",
       "  </tbody>\n",
       "</table>\n",
       "</div>"
      ],
      "text/plain": [
       "                                                                                          backer_info  \\\n",
       "0        {\"backer_id\": \"av166\", \"cf_id\": 968, \"name\": \"Angelo Vincent\", \"email\": \"avincent@live.com\"}   \n",
       "1        {\"backer_id\": \"ha127\", \"cf_id\": 563, \"name\": \"Hubert Arnold\", \"email\": \"harnold@yandex.com\"}   \n",
       "2          {\"backer_id\": \"lg794\", \"cf_id\": 65, \"name\": \"Loris Goulet\", \"email\": \"lgoulet@yandex.com\"}   \n",
       "3  {\"backer_id\": \"tb566\", \"cf_id\": 563, \"name\": \"Teodora Brunelli\", \"email\": \"tbrunelli@outlook.com\"}   \n",
       "4               {\"backer_id\": \"lh506\", \"cf_id\": 563, \"name\": \"Lexie Hunt\", \"email\": \"lhunt@live.com\"}   \n",
       "\n",
       "  backer_id cf_id name  \n",
       "0     av166   NaN  NaN  \n",
       "1     ha127   NaN  NaN  \n",
       "2     lg794   NaN  NaN  \n",
       "3     tb566   NaN  NaN  \n",
       "4     lh506   NaN  NaN  "
      ]
     },
     "execution_count": 17,
     "metadata": {},
     "output_type": "execute_result"
    }
   ],
   "source": [
    "# Extract the two to four-digit \"cf_id\" number from the backer_info column. \n",
    "# and add it as a new column called \"cf_id\".\n",
    "backer_df['cf_id'] = backer_df['backer_info'].str.extract(r'(\\d{2}\\d{3})')\n",
    "backer_df.head()"
   ]
  },
  {
   "cell_type": "code",
   "execution_count": 15,
   "metadata": {},
   "outputs": [
    {
     "ename": "ValueError",
     "evalue": "Columns must be same length as key",
     "output_type": "error",
     "traceback": [
      "\u001b[0;31m---------------------------------------------------------------------------\u001b[0m",
      "\u001b[0;31mValueError\u001b[0m                                Traceback (most recent call last)",
      "Cell \u001b[0;32mIn [15], line 2\u001b[0m\n\u001b[1;32m      1\u001b[0m \u001b[38;5;66;03m# Extract the name from the backer_info column and add it as a new column called \"name\".\u001b[39;00m\n\u001b[0;32m----> 2\u001b[0m backer_df[\u001b[38;5;124m'\u001b[39m\u001b[38;5;124mname\u001b[39m\u001b[38;5;124m'\u001b[39m] \u001b[38;5;241m=\u001b[39m backer_df[\u001b[38;5;124m'\u001b[39m\u001b[38;5;124mbacker_info\u001b[39m\u001b[38;5;124m'\u001b[39m]\u001b[38;5;241m.\u001b[39mstr\u001b[38;5;241m.\u001b[39mextract(\u001b[38;5;124mr\u001b[39m\u001b[38;5;124m'\u001b[39m\u001b[38;5;124m(\u001b[39m\u001b[38;5;124m\"\u001b[39m\u001b[38;5;124mname\u001b[39m\u001b[38;5;124m\"\u001b[39m\u001b[38;5;124m:*(\u001b[39m\u001b[38;5;124m\"\u001b[39m\u001b[38;5;124m\\\u001b[39m\u001b[38;5;124mw*\u001b[39m\u001b[38;5;124m\"\u001b[39m\u001b[38;5;124m))\u001b[39m\u001b[38;5;124m'\u001b[39m)\n\u001b[1;32m      3\u001b[0m backer_df\u001b[38;5;241m.\u001b[39mhead()\n",
      "File \u001b[0;32m~/opt/anaconda3/envs/PythonData/lib/python3.9/site-packages/pandas/core/frame.py:3968\u001b[0m, in \u001b[0;36mDataFrame.__setitem__\u001b[0;34m(self, key, value)\u001b[0m\n\u001b[1;32m   3966\u001b[0m     \u001b[38;5;28mself\u001b[39m\u001b[38;5;241m.\u001b[39m_setitem_array(key, value)\n\u001b[1;32m   3967\u001b[0m \u001b[38;5;28;01melif\u001b[39;00m \u001b[38;5;28misinstance\u001b[39m(value, DataFrame):\n\u001b[0;32m-> 3968\u001b[0m     \u001b[38;5;28;43mself\u001b[39;49m\u001b[38;5;241;43m.\u001b[39;49m\u001b[43m_set_item_frame_value\u001b[49m\u001b[43m(\u001b[49m\u001b[43mkey\u001b[49m\u001b[43m,\u001b[49m\u001b[43m \u001b[49m\u001b[43mvalue\u001b[49m\u001b[43m)\u001b[49m\n\u001b[1;32m   3969\u001b[0m \u001b[38;5;28;01melif\u001b[39;00m (\n\u001b[1;32m   3970\u001b[0m     is_list_like(value)\n\u001b[1;32m   3971\u001b[0m     \u001b[38;5;129;01mand\u001b[39;00m \u001b[38;5;129;01mnot\u001b[39;00m \u001b[38;5;28mself\u001b[39m\u001b[38;5;241m.\u001b[39mcolumns\u001b[38;5;241m.\u001b[39mis_unique\n\u001b[1;32m   3972\u001b[0m     \u001b[38;5;129;01mand\u001b[39;00m \u001b[38;5;241m1\u001b[39m \u001b[38;5;241m<\u001b[39m \u001b[38;5;28mlen\u001b[39m(\u001b[38;5;28mself\u001b[39m\u001b[38;5;241m.\u001b[39mcolumns\u001b[38;5;241m.\u001b[39mget_indexer_for([key])) \u001b[38;5;241m==\u001b[39m \u001b[38;5;28mlen\u001b[39m(value)\n\u001b[1;32m   3973\u001b[0m ):\n\u001b[1;32m   3974\u001b[0m     \u001b[38;5;66;03m# Column to set is duplicated\u001b[39;00m\n\u001b[1;32m   3975\u001b[0m     \u001b[38;5;28mself\u001b[39m\u001b[38;5;241m.\u001b[39m_setitem_array([key], value)\n",
      "File \u001b[0;32m~/opt/anaconda3/envs/PythonData/lib/python3.9/site-packages/pandas/core/frame.py:4098\u001b[0m, in \u001b[0;36mDataFrame._set_item_frame_value\u001b[0;34m(self, key, value)\u001b[0m\n\u001b[1;32m   4096\u001b[0m len_cols \u001b[38;5;241m=\u001b[39m \u001b[38;5;241m1\u001b[39m \u001b[38;5;28;01mif\u001b[39;00m is_scalar(cols) \u001b[38;5;28;01melse\u001b[39;00m \u001b[38;5;28mlen\u001b[39m(cols)\n\u001b[1;32m   4097\u001b[0m \u001b[38;5;28;01mif\u001b[39;00m len_cols \u001b[38;5;241m!=\u001b[39m \u001b[38;5;28mlen\u001b[39m(value\u001b[38;5;241m.\u001b[39mcolumns):\n\u001b[0;32m-> 4098\u001b[0m     \u001b[38;5;28;01mraise\u001b[39;00m \u001b[38;5;167;01mValueError\u001b[39;00m(\u001b[38;5;124m\"\u001b[39m\u001b[38;5;124mColumns must be same length as key\u001b[39m\u001b[38;5;124m\"\u001b[39m)\n\u001b[1;32m   4100\u001b[0m \u001b[38;5;66;03m# align right-hand-side columns if self.columns\u001b[39;00m\n\u001b[1;32m   4101\u001b[0m \u001b[38;5;66;03m# is multi-index and self[key] is a sub-frame\u001b[39;00m\n\u001b[1;32m   4102\u001b[0m \u001b[38;5;28;01mif\u001b[39;00m \u001b[38;5;28misinstance\u001b[39m(\u001b[38;5;28mself\u001b[39m\u001b[38;5;241m.\u001b[39mcolumns, MultiIndex) \u001b[38;5;129;01mand\u001b[39;00m \u001b[38;5;28misinstance\u001b[39m(\n\u001b[1;32m   4103\u001b[0m     loc, (\u001b[38;5;28mslice\u001b[39m, Series, np\u001b[38;5;241m.\u001b[39mndarray, Index)\n\u001b[1;32m   4104\u001b[0m ):\n",
      "\u001b[0;31mValueError\u001b[0m: Columns must be same length as key"
     ]
    }
   ],
   "source": [
    "# Extract the name from the backer_info column and add it as a new column called \"name\".\n",
    "backer_df['name'] = backer_df['backer_info'].str.extract(r'(\"name\":*(\"\\w*\"))')\n",
    "backer_df.head()"
   ]
  },
  {
   "cell_type": "code",
   "execution_count": 13,
   "metadata": {},
   "outputs": [
    {
     "ename": "ValueError",
     "evalue": "pattern contains no capture groups",
     "output_type": "error",
     "traceback": [
      "\u001b[0;31m---------------------------------------------------------------------------\u001b[0m",
      "\u001b[0;31mValueError\u001b[0m                                Traceback (most recent call last)",
      "Cell \u001b[0;32mIn [13], line 2\u001b[0m\n\u001b[1;32m      1\u001b[0m \u001b[38;5;66;03m# Extract the email from the backer_info column and add it as a new column called \"email\".\u001b[39;00m\n\u001b[0;32m----> 2\u001b[0m backer_df[\u001b[38;5;124m'\u001b[39m\u001b[38;5;124memail\u001b[39m\u001b[38;5;124m'\u001b[39m] \u001b[38;5;241m=\u001b[39m backer_df[\u001b[38;5;124m'\u001b[39m\u001b[38;5;124mbacker_info\u001b[39m\u001b[38;5;124m'\u001b[39m]\u001b[38;5;241m.\u001b[39mstr\u001b[38;5;241m.\u001b[39mextract(\u001b[38;5;124mr\u001b[39m\u001b[38;5;124m'\u001b[39m\u001b[38;5;124m\\\u001b[39m\u001b[38;5;124mb[a-zA-Z0-9.-]+@[a-zA-Z0-9.-]+\u001b[39m\u001b[38;5;124m\\\u001b[39m\u001b[38;5;124m.[a-zA-Z0-9.-]+\u001b[39m\u001b[38;5;124m\\\u001b[39m\u001b[38;5;124mb\u001b[39m\u001b[38;5;124m'\u001b[39m)\n\u001b[1;32m      3\u001b[0m backer_df\u001b[38;5;241m.\u001b[39mhead()\n",
      "File \u001b[0;32m~/opt/anaconda3/envs/PythonData/lib/python3.9/site-packages/pandas/core/strings/accessor.py:130\u001b[0m, in \u001b[0;36mforbid_nonstring_types.<locals>._forbid_nonstring_types.<locals>.wrapper\u001b[0;34m(self, *args, **kwargs)\u001b[0m\n\u001b[1;32m    125\u001b[0m     msg \u001b[38;5;241m=\u001b[39m (\n\u001b[1;32m    126\u001b[0m         \u001b[38;5;124mf\u001b[39m\u001b[38;5;124m\"\u001b[39m\u001b[38;5;124mCannot use .str.\u001b[39m\u001b[38;5;132;01m{\u001b[39;00mfunc_name\u001b[38;5;132;01m}\u001b[39;00m\u001b[38;5;124m with values of \u001b[39m\u001b[38;5;124m\"\u001b[39m\n\u001b[1;32m    127\u001b[0m         \u001b[38;5;124mf\u001b[39m\u001b[38;5;124m\"\u001b[39m\u001b[38;5;124minferred dtype \u001b[39m\u001b[38;5;124m'\u001b[39m\u001b[38;5;132;01m{\u001b[39;00m\u001b[38;5;28mself\u001b[39m\u001b[38;5;241m.\u001b[39m_inferred_dtype\u001b[38;5;132;01m}\u001b[39;00m\u001b[38;5;124m'\u001b[39m\u001b[38;5;124m.\u001b[39m\u001b[38;5;124m\"\u001b[39m\n\u001b[1;32m    128\u001b[0m     )\n\u001b[1;32m    129\u001b[0m     \u001b[38;5;28;01mraise\u001b[39;00m \u001b[38;5;167;01mTypeError\u001b[39;00m(msg)\n\u001b[0;32m--> 130\u001b[0m \u001b[38;5;28;01mreturn\u001b[39;00m \u001b[43mfunc\u001b[49m\u001b[43m(\u001b[49m\u001b[38;5;28;43mself\u001b[39;49m\u001b[43m,\u001b[49m\u001b[43m \u001b[49m\u001b[38;5;241;43m*\u001b[39;49m\u001b[43margs\u001b[49m\u001b[43m,\u001b[49m\u001b[43m \u001b[49m\u001b[38;5;241;43m*\u001b[39;49m\u001b[38;5;241;43m*\u001b[39;49m\u001b[43mkwargs\u001b[49m\u001b[43m)\u001b[49m\n",
      "File \u001b[0;32m~/opt/anaconda3/envs/PythonData/lib/python3.9/site-packages/pandas/core/strings/accessor.py:2614\u001b[0m, in \u001b[0;36mStringMethods.extract\u001b[0;34m(self, pat, flags, expand)\u001b[0m\n\u001b[1;32m   2612\u001b[0m regex \u001b[38;5;241m=\u001b[39m re\u001b[38;5;241m.\u001b[39mcompile(pat, flags\u001b[38;5;241m=\u001b[39mflags)\n\u001b[1;32m   2613\u001b[0m \u001b[38;5;28;01mif\u001b[39;00m regex\u001b[38;5;241m.\u001b[39mgroups \u001b[38;5;241m==\u001b[39m \u001b[38;5;241m0\u001b[39m:\n\u001b[0;32m-> 2614\u001b[0m     \u001b[38;5;28;01mraise\u001b[39;00m \u001b[38;5;167;01mValueError\u001b[39;00m(\u001b[38;5;124m\"\u001b[39m\u001b[38;5;124mpattern contains no capture groups\u001b[39m\u001b[38;5;124m\"\u001b[39m)\n\u001b[1;32m   2616\u001b[0m \u001b[38;5;28;01mif\u001b[39;00m \u001b[38;5;129;01mnot\u001b[39;00m expand \u001b[38;5;129;01mand\u001b[39;00m regex\u001b[38;5;241m.\u001b[39mgroups \u001b[38;5;241m>\u001b[39m \u001b[38;5;241m1\u001b[39m \u001b[38;5;129;01mand\u001b[39;00m \u001b[38;5;28misinstance\u001b[39m(\u001b[38;5;28mself\u001b[39m\u001b[38;5;241m.\u001b[39m_data, ABCIndex):\n\u001b[1;32m   2617\u001b[0m     \u001b[38;5;28;01mraise\u001b[39;00m \u001b[38;5;167;01mValueError\u001b[39;00m(\u001b[38;5;124m\"\u001b[39m\u001b[38;5;124monly one regex group is supported with Index\u001b[39m\u001b[38;5;124m\"\u001b[39m)\n",
      "\u001b[0;31mValueError\u001b[0m: pattern contains no capture groups"
     ]
    }
   ],
   "source": [
    "# Extract the email from the backer_info column and add it as a new column called \"email\".\n",
    "backer_df['email'] = backer_df['backer_info'].str.extract(r'\\b[a-zA-Z0-9.-]+@[a-zA-Z0-9.-]+\\.[a-zA-Z0-9.-]+\\b')\n",
    "backer_df.head()"
   ]
  },
  {
   "cell_type": "code",
   "execution_count": null,
   "metadata": {},
   "outputs": [],
   "source": [
    "# Create a new DataFrame with the appropriate columns.\n"
   ]
  },
  {
   "cell_type": "code",
   "execution_count": null,
   "metadata": {},
   "outputs": [],
   "source": [
    "# Export the DataFrame as a CSV file using encoding='utf8'.\n"
   ]
  },
  {
   "cell_type": "markdown",
   "metadata": {},
   "source": [
    "## Deliverable 2: Transform and Clean Data\n",
    "----\n",
    "1. Check the data types of the columns and convert the \"cf_id\" column to an integer, if necessary.\n",
    "2. Split the name in the \"name\" column into first and last names, and add them to \"first_name\" and \"last_name\" columns in the DataFrame. \n",
    "3. Drop the \"name\" column in the DataFrame.\n",
    "4. Place the columns in the following order; \"backer_id\", \"cf_id\", \"first_name\", \"last_name\" and \"email\"."
   ]
  },
  {
   "cell_type": "code",
   "execution_count": null,
   "metadata": {},
   "outputs": [],
   "source": [
    "# Check data types.\n"
   ]
  },
  {
   "cell_type": "code",
   "execution_count": null,
   "metadata": {},
   "outputs": [],
   "source": [
    "# Convert cf_id to an integer if necessary.\n"
   ]
  },
  {
   "cell_type": "code",
   "execution_count": null,
   "metadata": {},
   "outputs": [],
   "source": [
    "# Split the \"name\" column into \"first_name\" and \"last_name\" columns.\n"
   ]
  },
  {
   "cell_type": "code",
   "execution_count": null,
   "metadata": {},
   "outputs": [],
   "source": [
    "#  Drop the name column\n",
    "\n",
    "\n",
    "# Reorder the columns\n"
   ]
  },
  {
   "cell_type": "code",
   "execution_count": null,
   "metadata": {},
   "outputs": [],
   "source": [
    "# Export the DataFrame as a CSV file using encoding='utf8'.\n"
   ]
  },
  {
   "cell_type": "code",
   "execution_count": null,
   "metadata": {},
   "outputs": [],
   "source": []
  }
 ],
 "metadata": {
  "kernelspec": {
   "display_name": "PythonData",
   "language": "python",
   "name": "pythondata"
  },
  "language_info": {
   "codemirror_mode": {
    "name": "ipython",
    "version": 3
   },
   "file_extension": ".py",
   "mimetype": "text/x-python",
   "name": "python",
   "nbconvert_exporter": "python",
   "pygments_lexer": "ipython3",
   "version": "3.9.13"
  }
 },
 "nbformat": 4,
 "nbformat_minor": 4
}
